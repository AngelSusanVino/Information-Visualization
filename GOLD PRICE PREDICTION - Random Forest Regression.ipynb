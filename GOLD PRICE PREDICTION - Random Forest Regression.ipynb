{
 "cells": [
  {
   "cell_type": "code",
   "execution_count": 1,
   "id": "a29e9ea6",
   "metadata": {},
   "outputs": [],
   "source": [
    "import numpy as np # number array\n",
    "import pandas as pd # dataframe\n",
    "import matplotlib.pyplot as plt #plots and graph\n",
    "import seaborn as sns #plots\n",
    "from sklearn.model_selection import train_test_split\n",
    "from sklearn.ensemble import RandomForestRegressor\n",
    "from sklearn import metrics #evaluate the model "
   ]
  },
  {
   "cell_type": "code",
   "execution_count": 15,
   "id": "93257898",
   "metadata": {},
   "outputs": [],
   "source": [
    "# DATA COLLECTION AND PROCESSING"
   ]
  },
  {
   "cell_type": "code",
   "execution_count": 5,
   "id": "18466e8a",
   "metadata": {},
   "outputs": [
    {
     "data": {
      "text/html": [
       "<div>\n",
       "<style scoped>\n",
       "    .dataframe tbody tr th:only-of-type {\n",
       "        vertical-align: middle;\n",
       "    }\n",
       "\n",
       "    .dataframe tbody tr th {\n",
       "        vertical-align: top;\n",
       "    }\n",
       "\n",
       "    .dataframe thead th {\n",
       "        text-align: right;\n",
       "    }\n",
       "</style>\n",
       "<table border=\"1\" class=\"dataframe\">\n",
       "  <thead>\n",
       "    <tr style=\"text-align: right;\">\n",
       "      <th></th>\n",
       "      <th>Date</th>\n",
       "      <th>SPX</th>\n",
       "      <th>GLD</th>\n",
       "      <th>USO</th>\n",
       "      <th>SLV</th>\n",
       "      <th>EUR/USD</th>\n",
       "    </tr>\n",
       "  </thead>\n",
       "  <tbody>\n",
       "    <tr>\n",
       "      <th>0</th>\n",
       "      <td>01-02-2008</td>\n",
       "      <td>1447.160034</td>\n",
       "      <td>84.860001</td>\n",
       "      <td>78.470001</td>\n",
       "      <td>15.180</td>\n",
       "      <td>1.471692</td>\n",
       "    </tr>\n",
       "    <tr>\n",
       "      <th>1</th>\n",
       "      <td>01-03-2008</td>\n",
       "      <td>1447.160034</td>\n",
       "      <td>85.570000</td>\n",
       "      <td>78.370003</td>\n",
       "      <td>15.285</td>\n",
       "      <td>1.474491</td>\n",
       "    </tr>\n",
       "    <tr>\n",
       "      <th>2</th>\n",
       "      <td>01-04-2008</td>\n",
       "      <td>1411.630005</td>\n",
       "      <td>85.129997</td>\n",
       "      <td>77.309998</td>\n",
       "      <td>15.167</td>\n",
       "      <td>1.475492</td>\n",
       "    </tr>\n",
       "    <tr>\n",
       "      <th>3</th>\n",
       "      <td>01-07-2008</td>\n",
       "      <td>1416.180054</td>\n",
       "      <td>84.769997</td>\n",
       "      <td>75.500000</td>\n",
       "      <td>15.053</td>\n",
       "      <td>1.468299</td>\n",
       "    </tr>\n",
       "    <tr>\n",
       "      <th>4</th>\n",
       "      <td>01-08-2008</td>\n",
       "      <td>1390.189941</td>\n",
       "      <td>86.779999</td>\n",
       "      <td>76.059998</td>\n",
       "      <td>15.590</td>\n",
       "      <td>1.557099</td>\n",
       "    </tr>\n",
       "  </tbody>\n",
       "</table>\n",
       "</div>"
      ],
      "text/plain": [
       "         Date          SPX        GLD        USO     SLV   EUR/USD\n",
       "0  01-02-2008  1447.160034  84.860001  78.470001  15.180  1.471692\n",
       "1  01-03-2008  1447.160034  85.570000  78.370003  15.285  1.474491\n",
       "2  01-04-2008  1411.630005  85.129997  77.309998  15.167  1.475492\n",
       "3  01-07-2008  1416.180054  84.769997  75.500000  15.053  1.468299\n",
       "4  01-08-2008  1390.189941  86.779999  76.059998  15.590  1.557099"
      ]
     },
     "execution_count": 5,
     "metadata": {},
     "output_type": "execute_result"
    }
   ],
   "source": [
    "gold_data = pd.read_csv('gld_price_data_1.csv')\n",
    "gold_data.head()#first 5 rows"
   ]
  },
  {
   "cell_type": "code",
   "execution_count": 6,
   "id": "df3097d9",
   "metadata": {},
   "outputs": [],
   "source": [
    "#SPX->also known SNP index it is the capitalization index of 500 companies which are pubilicaly traded.\n",
    "#It is one of the stocks available.\n",
    "#GLD->Gold Price (This is what we are planning to predict)\n",
    "#USO->United States oil price\n",
    "#SLV->Silver Price\n",
    "#EUR/USD->Currency (european and us currency)"
   ]
  },
  {
   "cell_type": "code",
   "execution_count": 8,
   "id": "c7507b5b",
   "metadata": {},
   "outputs": [
    {
     "data": {
      "text/html": [
       "<div>\n",
       "<style scoped>\n",
       "    .dataframe tbody tr th:only-of-type {\n",
       "        vertical-align: middle;\n",
       "    }\n",
       "\n",
       "    .dataframe tbody tr th {\n",
       "        vertical-align: top;\n",
       "    }\n",
       "\n",
       "    .dataframe thead th {\n",
       "        text-align: right;\n",
       "    }\n",
       "</style>\n",
       "<table border=\"1\" class=\"dataframe\">\n",
       "  <thead>\n",
       "    <tr style=\"text-align: right;\">\n",
       "      <th></th>\n",
       "      <th>Date</th>\n",
       "      <th>SPX</th>\n",
       "      <th>GLD</th>\n",
       "      <th>USO</th>\n",
       "      <th>SLV</th>\n",
       "      <th>EUR/USD</th>\n",
       "    </tr>\n",
       "  </thead>\n",
       "  <tbody>\n",
       "    <tr>\n",
       "      <th>2285</th>\n",
       "      <td>05-08-2018</td>\n",
       "      <td>2671.919922</td>\n",
       "      <td>124.589996</td>\n",
       "      <td>14.0600</td>\n",
       "      <td>15.5100</td>\n",
       "      <td>1.186789</td>\n",
       "    </tr>\n",
       "    <tr>\n",
       "      <th>2286</th>\n",
       "      <td>05-09-2018</td>\n",
       "      <td>2697.790039</td>\n",
       "      <td>124.330002</td>\n",
       "      <td>14.3700</td>\n",
       "      <td>15.5300</td>\n",
       "      <td>1.184722</td>\n",
       "    </tr>\n",
       "    <tr>\n",
       "      <th>2287</th>\n",
       "      <td>05-10-2018</td>\n",
       "      <td>2723.070068</td>\n",
       "      <td>125.180000</td>\n",
       "      <td>14.4100</td>\n",
       "      <td>15.7400</td>\n",
       "      <td>1.191753</td>\n",
       "    </tr>\n",
       "    <tr>\n",
       "      <th>2288</th>\n",
       "      <td>5/14/2018</td>\n",
       "      <td>2730.129883</td>\n",
       "      <td>124.489998</td>\n",
       "      <td>14.3800</td>\n",
       "      <td>15.5600</td>\n",
       "      <td>1.193118</td>\n",
       "    </tr>\n",
       "    <tr>\n",
       "      <th>2289</th>\n",
       "      <td>5/16/2018</td>\n",
       "      <td>2725.780029</td>\n",
       "      <td>122.543800</td>\n",
       "      <td>14.4058</td>\n",
       "      <td>15.4542</td>\n",
       "      <td>1.182033</td>\n",
       "    </tr>\n",
       "  </tbody>\n",
       "</table>\n",
       "</div>"
      ],
      "text/plain": [
       "            Date          SPX         GLD      USO      SLV   EUR/USD\n",
       "2285  05-08-2018  2671.919922  124.589996  14.0600  15.5100  1.186789\n",
       "2286  05-09-2018  2697.790039  124.330002  14.3700  15.5300  1.184722\n",
       "2287  05-10-2018  2723.070068  125.180000  14.4100  15.7400  1.191753\n",
       "2288   5/14/2018  2730.129883  124.489998  14.3800  15.5600  1.193118\n",
       "2289   5/16/2018  2725.780029  122.543800  14.4058  15.4542  1.182033"
      ]
     },
     "execution_count": 8,
     "metadata": {},
     "output_type": "execute_result"
    }
   ],
   "source": [
    "gold_data.tail()#last 5 rows"
   ]
  },
  {
   "cell_type": "code",
   "execution_count": 9,
   "id": "3e5939e0",
   "metadata": {},
   "outputs": [
    {
     "data": {
      "text/plain": [
       "(2290, 6)"
      ]
     },
     "execution_count": 9,
     "metadata": {},
     "output_type": "execute_result"
    }
   ],
   "source": [
    "#number of rows and coloumns\n",
    "gold_data.shape"
   ]
  },
  {
   "cell_type": "code",
   "execution_count": 10,
   "id": "bd18ba5a",
   "metadata": {},
   "outputs": [],
   "source": [
    "#rows->2290\n",
    "#coloumns->6"
   ]
  },
  {
   "cell_type": "code",
   "execution_count": 12,
   "id": "767fae4c",
   "metadata": {},
   "outputs": [
    {
     "name": "stdout",
     "output_type": "stream",
     "text": [
      "<class 'pandas.core.frame.DataFrame'>\n",
      "RangeIndex: 2290 entries, 0 to 2289\n",
      "Data columns (total 6 columns):\n",
      " #   Column   Non-Null Count  Dtype  \n",
      "---  ------   --------------  -----  \n",
      " 0   Date     2290 non-null   object \n",
      " 1   SPX      2290 non-null   float64\n",
      " 2   GLD      2290 non-null   float64\n",
      " 3   USO      2290 non-null   float64\n",
      " 4   SLV      2290 non-null   float64\n",
      " 5   EUR/USD  2290 non-null   float64\n",
      "dtypes: float64(5), object(1)\n",
      "memory usage: 107.5+ KB\n"
     ]
    }
   ],
   "source": [
    "gold_data.info() #getting some basic information about the data"
   ]
  },
  {
   "cell_type": "code",
   "execution_count": 13,
   "id": "fdea7551",
   "metadata": {},
   "outputs": [],
   "source": [
    "#there is no missing value\n",
    "#Data Type are in object and float (64 bits)"
   ]
  },
  {
   "cell_type": "code",
   "execution_count": 14,
   "id": "156e8a9f",
   "metadata": {},
   "outputs": [
    {
     "data": {
      "text/plain": [
       "Date       0\n",
       "SPX        0\n",
       "GLD        0\n",
       "USO        0\n",
       "SLV        0\n",
       "EUR/USD    0\n",
       "dtype: int64"
      ]
     },
     "execution_count": 14,
     "metadata": {},
     "output_type": "execute_result"
    }
   ],
   "source": [
    "gold_data.isnull().sum() #checking the number of missing value"
   ]
  },
  {
   "cell_type": "code",
   "execution_count": 16,
   "id": "ef45be6f",
   "metadata": {},
   "outputs": [],
   "source": [
    "#Confirmed that there is no missing value"
   ]
  },
  {
   "cell_type": "code",
   "execution_count": 19,
   "id": "1bf58c13",
   "metadata": {
    "scrolled": true
   },
   "outputs": [
    {
     "data": {
      "text/html": [
       "<div>\n",
       "<style scoped>\n",
       "    .dataframe tbody tr th:only-of-type {\n",
       "        vertical-align: middle;\n",
       "    }\n",
       "\n",
       "    .dataframe tbody tr th {\n",
       "        vertical-align: top;\n",
       "    }\n",
       "\n",
       "    .dataframe thead th {\n",
       "        text-align: right;\n",
       "    }\n",
       "</style>\n",
       "<table border=\"1\" class=\"dataframe\">\n",
       "  <thead>\n",
       "    <tr style=\"text-align: right;\">\n",
       "      <th></th>\n",
       "      <th>SPX</th>\n",
       "      <th>GLD</th>\n",
       "      <th>USO</th>\n",
       "      <th>SLV</th>\n",
       "      <th>EUR/USD</th>\n",
       "    </tr>\n",
       "  </thead>\n",
       "  <tbody>\n",
       "    <tr>\n",
       "      <th>count</th>\n",
       "      <td>2290.000000</td>\n",
       "      <td>2290.000000</td>\n",
       "      <td>2290.000000</td>\n",
       "      <td>2290.000000</td>\n",
       "      <td>2290.000000</td>\n",
       "    </tr>\n",
       "    <tr>\n",
       "      <th>mean</th>\n",
       "      <td>1654.315776</td>\n",
       "      <td>122.732875</td>\n",
       "      <td>31.842221</td>\n",
       "      <td>20.084997</td>\n",
       "      <td>1.283653</td>\n",
       "    </tr>\n",
       "    <tr>\n",
       "      <th>std</th>\n",
       "      <td>519.111540</td>\n",
       "      <td>23.283346</td>\n",
       "      <td>19.523517</td>\n",
       "      <td>7.092566</td>\n",
       "      <td>0.131547</td>\n",
       "    </tr>\n",
       "    <tr>\n",
       "      <th>min</th>\n",
       "      <td>676.530029</td>\n",
       "      <td>70.000000</td>\n",
       "      <td>7.960000</td>\n",
       "      <td>8.850000</td>\n",
       "      <td>1.039047</td>\n",
       "    </tr>\n",
       "    <tr>\n",
       "      <th>25%</th>\n",
       "      <td>1239.874969</td>\n",
       "      <td>109.725000</td>\n",
       "      <td>14.380000</td>\n",
       "      <td>15.570000</td>\n",
       "      <td>1.171313</td>\n",
       "    </tr>\n",
       "    <tr>\n",
       "      <th>50%</th>\n",
       "      <td>1551.434998</td>\n",
       "      <td>120.580002</td>\n",
       "      <td>33.869999</td>\n",
       "      <td>17.268500</td>\n",
       "      <td>1.303297</td>\n",
       "    </tr>\n",
       "    <tr>\n",
       "      <th>75%</th>\n",
       "      <td>2073.010070</td>\n",
       "      <td>132.840004</td>\n",
       "      <td>37.827501</td>\n",
       "      <td>22.882500</td>\n",
       "      <td>1.369971</td>\n",
       "    </tr>\n",
       "    <tr>\n",
       "      <th>max</th>\n",
       "      <td>2872.870117</td>\n",
       "      <td>184.589996</td>\n",
       "      <td>117.480003</td>\n",
       "      <td>47.259998</td>\n",
       "      <td>1.598798</td>\n",
       "    </tr>\n",
       "  </tbody>\n",
       "</table>\n",
       "</div>"
      ],
      "text/plain": [
       "               SPX          GLD          USO          SLV      EUR/USD\n",
       "count  2290.000000  2290.000000  2290.000000  2290.000000  2290.000000\n",
       "mean   1654.315776   122.732875    31.842221    20.084997     1.283653\n",
       "std     519.111540    23.283346    19.523517     7.092566     0.131547\n",
       "min     676.530029    70.000000     7.960000     8.850000     1.039047\n",
       "25%    1239.874969   109.725000    14.380000    15.570000     1.171313\n",
       "50%    1551.434998   120.580002    33.869999    17.268500     1.303297\n",
       "75%    2073.010070   132.840004    37.827501    22.882500     1.369971\n",
       "max    2872.870117   184.589996   117.480003    47.259998     1.598798"
      ]
     },
     "execution_count": 19,
     "metadata": {},
     "output_type": "execute_result"
    }
   ],
   "source": [
    "#Staistical Measure of the data\n",
    "gold_data.describe()"
   ]
  },
  {
   "cell_type": "code",
   "execution_count": 20,
   "id": "1271d62a",
   "metadata": {},
   "outputs": [],
   "source": [
    "#count-->2290 data points\n",
    "#mean-->mean value of each coloumn\n",
    "#std-->standard deviation\n",
    "#min and max--> minimum and maximum values\n",
    "#percentile values-->25% means 25% of the actual data is less than the given value."
   ]
  },
  {
   "cell_type": "code",
   "execution_count": 21,
   "id": "49fb1515",
   "metadata": {},
   "outputs": [],
   "source": [
    "#Correlation between Columns of data\n",
    "# two types\n",
    "#-->positive corr(two variables one var increases other increases directly proportional)\n",
    "#-->negative corr(One var increases other one decreases inversly proportional)"
   ]
  },
  {
   "cell_type": "code",
   "execution_count": 22,
   "id": "346d0a99",
   "metadata": {},
   "outputs": [],
   "source": [
    "correlation=gold_data.corr()"
   ]
  },
  {
   "cell_type": "code",
   "execution_count": 25,
   "id": "497a4bb0",
   "metadata": {},
   "outputs": [
    {
     "data": {
      "text/plain": [
       "<AxesSubplot:>"
      ]
     },
     "execution_count": 25,
     "metadata": {},
     "output_type": "execute_result"
    },
    {
     "data": {
      "image/png": "[encoded data removed]",
      "text/plain": [
       "<Figure size 576x576 with 2 Axes>"
      ]
     },
     "metadata": {
      "needs_background": "light"
     },
     "output_type": "display_data"
    }
   ],
   "source": [
    "#constructing heatmap to understand correlation\n",
    "plt.figure(figsize = (8,8))\n",
    "sns.heatmap(correlation,cbar=True,square=True,fmt='.1f',annot=True,annot_kws={'size':8},cmap='Blues')"
   ]
  },
  {
   "cell_type": "code",
   "execution_count": 26,
   "id": "8d997f7d",
   "metadata": {},
   "outputs": [],
   "source": [
    "#Negative Correlation (1.0 to -0.6)"
   ]
  },
  {
   "cell_type": "code",
   "execution_count": 27,
   "id": "fd23bb79",
   "metadata": {},
   "outputs": [],
   "source": [
    "#cbar=True-->color bar\n",
    "#square=True --> sqaure shape\n",
    "#fmt='.1f'-->no. of decimal values we want 1 floating point\n",
    "#annot=True-->annotations like slv usr etc is needed\n",
    "#annot_kws={'size':8} -->annotations size\n",
    "#cmap='Blues'-->which ever color that we need "
   ]
  },
  {
   "cell_type": "code",
   "execution_count": 28,
   "id": "4fb02fa0",
   "metadata": {},
   "outputs": [
    {
     "name": "stdout",
     "output_type": "stream",
     "text": [
      "SPX        0.049345\n",
      "GLD        1.000000\n",
      "USO       -0.186360\n",
      "SLV        0.866632\n",
      "EUR/USD   -0.024375\n",
      "Name: GLD, dtype: float64\n"
     ]
    }
   ],
   "source": [
    "#correlation values of GLD\n",
    "print(correlation['GLD'])"
   ]
  },
  {
   "cell_type": "code",
   "execution_count": 29,
   "id": "13058367",
   "metadata": {},
   "outputs": [],
   "source": [
    "# USO negatively correlated\n",
    "# SLV positively\n",
    "# slightly correalated"
   ]
  },
  {
   "cell_type": "code",
   "execution_count": 61,
   "id": "19a9accd",
   "metadata": {
    "scrolled": true
   },
   "outputs": [
    {
     "name": "stderr",
     "output_type": "stream",
     "text": [
      "C:\\Users\\dell\\anaconda3\\lib\\site-packages\\seaborn\\distributions.py:2557: FutureWarning: `distplot` is a deprecated function and will be removed in a future version. Please adapt your code to use either `displot` (a figure-level function with similar flexibility) or `histplot` (an axes-level function for histograms).\n",
      "  warnings.warn(msg, FutureWarning)\n"
     ]
    },
    {
     "data": {
      "text/plain": [
       "<AxesSubplot:xlabel='GLD', ylabel='Density'>"
      ]
     },
     "execution_count": 61,
     "metadata": {},
     "output_type": "execute_result"
    },
    {
     "data": {
      "image/png": "[encoded data removed]",
      "text/plain": [
       "<Figure size 432x288 with 1 Axes>"
      ]
     },
     "metadata": {
      "needs_background": "light"
     },
     "output_type": "display_data"
    }
   ],
   "source": [
    "#checking the distribution of the GLD price\n",
    "sns.distplot(gold_data['GLD'],color='green')"
   ]
  },
  {
   "cell_type": "code",
   "execution_count": 31,
   "id": "fc1f6def",
   "metadata": {},
   "outputs": [],
   "source": [
    "#Splitting the features and target"
   ]
  },
  {
   "cell_type": "code",
   "execution_count": 33,
   "id": "9e32f908",
   "metadata": {},
   "outputs": [],
   "source": [
    "X=gold_data.drop(['Date','GLD'],axis=1)#axis=1 when coloumn is droped and 0 when row is dropped\n",
    "Y=gold_data['GLD']"
   ]
  },
  {
   "cell_type": "code",
   "execution_count": 34,
   "id": "f87c76d8",
   "metadata": {},
   "outputs": [
    {
     "name": "stdout",
     "output_type": "stream",
     "text": [
      "              SPX        USO      SLV   EUR/USD\n",
      "0     1447.160034  78.470001  15.1800  1.471692\n",
      "1     1447.160034  78.370003  15.2850  1.474491\n",
      "2     1411.630005  77.309998  15.1670  1.475492\n",
      "3     1416.180054  75.500000  15.0530  1.468299\n",
      "4     1390.189941  76.059998  15.5900  1.557099\n",
      "...           ...        ...      ...       ...\n",
      "2285  2671.919922  14.060000  15.5100  1.186789\n",
      "2286  2697.790039  14.370000  15.5300  1.184722\n",
      "2287  2723.070068  14.410000  15.7400  1.191753\n",
      "2288  2730.129883  14.380000  15.5600  1.193118\n",
      "2289  2725.780029  14.405800  15.4542  1.182033\n",
      "\n",
      "[2290 rows x 4 columns]\n"
     ]
    }
   ],
   "source": [
    "print(X)"
   ]
  },
  {
   "cell_type": "code",
   "execution_count": 35,
   "id": "0e5a45f3",
   "metadata": {},
   "outputs": [
    {
     "name": "stdout",
     "output_type": "stream",
     "text": [
      "0        84.860001\n",
      "1        85.570000\n",
      "2        85.129997\n",
      "3        84.769997\n",
      "4        86.779999\n",
      "           ...    \n",
      "2285    124.589996\n",
      "2286    124.330002\n",
      "2287    125.180000\n",
      "2288    124.489998\n",
      "2289    122.543800\n",
      "Name: GLD, Length: 2290, dtype: float64\n"
     ]
    }
   ],
   "source": [
    "print(Y)"
   ]
  },
  {
   "cell_type": "code",
   "execution_count": 36,
   "id": "c46f0b9b",
   "metadata": {},
   "outputs": [],
   "source": [
    "# Splitting into Training data and Test data"
   ]
  },
  {
   "cell_type": "code",
   "execution_count": 37,
   "id": "24d2178d",
   "metadata": {},
   "outputs": [],
   "source": [
    "X_train,X_test,Y_train,Y_test = train_test_split(X,Y,test_size=0.2,random_state=2)"
   ]
  },
  {
   "cell_type": "code",
   "execution_count": 38,
   "id": "db91e860",
   "metadata": {},
   "outputs": [],
   "source": [
    "#Model Training :Random Forest Regression (Mulitiple decisions tree will be there in random forest method.\n",
    "#It will find voting system it will either find mean  or median value and give prdicted value.)"
   ]
  },
  {
   "cell_type": "code",
   "execution_count": 40,
   "id": "e98a6bb0",
   "metadata": {},
   "outputs": [],
   "source": [
    "regressor = RandomForestRegressor(n_estimators=100)"
   ]
  },
  {
   "cell_type": "code",
   "execution_count": 42,
   "id": "2e13cb58",
   "metadata": {},
   "outputs": [
    {
     "data": {
      "text/plain": [
       "RandomForestRegressor()"
      ]
     },
     "execution_count": 42,
     "metadata": {},
     "output_type": "execute_result"
    }
   ],
   "source": [
    "#training the model \n",
    "regressor.fit(X_train,Y_train)"
   ]
  },
  {
   "cell_type": "code",
   "execution_count": 43,
   "id": "22335e3e",
   "metadata": {},
   "outputs": [],
   "source": [
    "#fit function by this oru ML model will fit"
   ]
  },
  {
   "cell_type": "code",
   "execution_count": 44,
   "id": "72c98f6e",
   "metadata": {},
   "outputs": [],
   "source": [
    "#Model Evaluation"
   ]
  },
  {
   "cell_type": "code",
   "execution_count": 45,
   "id": "944c1957",
   "metadata": {},
   "outputs": [],
   "source": [
    "#prediction on test data\n",
    "test_data_prediction = regressor.predict(X_test)"
   ]
  },
  {
   "cell_type": "code",
   "execution_count": 47,
   "id": "d54ff8e0",
   "metadata": {},
   "outputs": [
    {
     "name": "stdout",
     "output_type": "stream",
     "text": [
      "[168.69980026  82.29219982 116.02050022 127.70820074 120.72870136\n",
      " 154.68329786 149.8309997  126.06660008 117.6011985  126.06700057\n",
      " 116.47480104 170.79980038 141.75049925 167.98719859 115.23329981\n",
      " 118.23360049 138.47890305 170.23520087 158.86960271 161.49039881\n",
      " 155.2309001  124.95820022 176.05379955 157.09810319 125.18320018\n",
      "  93.7897998   76.83980034 120.60720019 119.10899932 167.53959932\n",
      "  88.1882003  125.21159984  91.10190086 117.69170031 121.09059923\n",
      " 135.95300053 115.56590089 115.1974005  145.41920018 106.88290129\n",
      " 104.20510241  87.24319781 126.65290036 117.65650041 151.40599905\n",
      " 119.56020008 108.43119987 108.00329804  93.24700051 127.15649775\n",
      "  74.73820031 113.65159916 121.27080019 111.30269934 118.9357991\n",
      " 120.59819938 159.77229957 166.87230127 146.95859679  85.85099884\n",
      "  94.10810029  86.77369895  90.64749989 119.1175005  126.49060061\n",
      " 127.39099973 169.21269957 122.2740992  117.37879878  98.52280038\n",
      " 168.59120137 143.43129906 132.62450204 121.12010217 120.4848993\n",
      " 119.73660056 114.51630203 118.29820064 106.76240117 127.95390102\n",
      " 114.30779963 107.60859981 116.33750072 119.69619923  88.95750046\n",
      "  88.18779853 147.03480239 127.21780007 113.52180014 110.18319811\n",
      " 108.25889891  77.63729928 169.279902   114.10189903 121.63709902\n",
      " 127.82390162 154.87079861  91.87769921 135.43840121 158.98890362\n",
      " 125.1490005  125.56750042 130.62080141 114.84820143 119.75709991\n",
      "  92.08019974 110.34889893 167.09749918 157.4270985  114.13889915\n",
      " 106.62970121  79.54089975 113.26310044 125.79560062 107.27769912\n",
      " 119.12290086 155.12880308 159.79389921 119.73680032 135.69630273\n",
      " 101.26549971 117.76279807 119.26970011 113.02340067 102.76069905\n",
      " 160.13239824  98.7188007  148.84129867 125.62700103 169.57939916\n",
      " 125.52139931 127.29829771 127.45550176 113.70989929 112.84740068\n",
      " 123.91509908 102.28729909  89.14910041 124.54569929 102.14499946\n",
      " 107.21179864 113.39660065 117.40360055  99.30369987 121.75750048\n",
      " 163.40849922  87.51899848 106.84199946 117.21960073 127.71750117\n",
      " 124.18630048  80.5943994  120.26910065 157.18509814  88.10739981\n",
      " 110.12419993 119.0889993  171.62319892 103.05479895 105.59910073\n",
      " 122.32390018 157.37379791  87.78669833  93.48420059 112.89420028\n",
      " 177.4996993  114.215      119.35880018  94.73010109 125.6346001\n",
      " 166.07070039 114.85860101 116.84380147  88.21719842 148.81770095\n",
      " 120.33419955  89.42049994 112.08149989 117.32430071 118.65140093\n",
      "  88.05539934  94.23790016 116.9031999  118.3602018  120.34680041\n",
      " 126.88159819 121.91579976 151.07829973 164.88820025 118.51679971\n",
      " 120.1735013  149.71140125 118.53639925 171.52629947 105.1932992\n",
      " 104.99430123 149.6406012  113.63650067 124.81870133 147.50659931\n",
      " 119.69360119 115.40470055 112.37559985 113.54300195 142.68320105\n",
      " 118.0630976  102.95140036 115.91280085 103.55020168  98.78700076\n",
      " 117.43470066  90.73020032  91.57100073 153.74249865 102.67399984\n",
      " 154.61830073 114.49530176 139.25720158  90.18659817 115.50959914\n",
      " 114.27339967 123.2087003  121.84690003 165.31820167  92.97619957\n",
      " 135.07230126 121.30109952 120.86640046 104.70000029 141.74880238\n",
      " 121.84149936 116.67910051 113.54240105 126.96439805 122.40689936\n",
      " 125.74599942 121.14210077  86.96099868 132.50580135 145.09130221\n",
      "  92.60749968 158.88229919 158.00710307 126.39549861 164.50029912\n",
      " 108.86789938 109.95050087 103.80469844  94.3198007  127.94900312\n",
      " 107.07470036 161.7308993  121.74330025 132.01680047 130.66070131\n",
      " 160.23100005  90.17229847 175.3227018  127.90180028 126.78739891\n",
      "  86.43559934 124.57719964 150.05679708  89.58680028 106.96449952\n",
      " 108.98919959  84.38599903 136.37180046 154.95410216 137.95800338\n",
      "  73.76300027 151.9135017  126.23309995 126.78260022 127.60489911\n",
      " 108.50269957 156.07370081 114.52850128 116.91510144 125.00019952\n",
      " 154.16230214 121.3390001  156.35849872  92.93250073 125.56960117\n",
      " 125.29900039  87.8997005   92.09489899 126.14829923 128.41930408\n",
      " 113.41480092 117.43679709 120.95100006 127.06289774 119.47580068\n",
      " 136.66170063  94.00749946 119.77720038 113.22900098  94.36129952\n",
      " 109.00760025  87.04579903 109.16749967  89.72889979  92.6281001\n",
      " 131.6270024  162.34490029  89.48209991 119.78700083 133.25120195\n",
      " 123.87650017 128.28930215 102.10229871  89.20489864 131.95160028\n",
      " 119.41029996 108.41939986 168.94750067 115.32220066  86.55929888\n",
      " 118.75490057  90.91889951 161.7535006  116.69150068 121.77900021\n",
      " 160.41079825 120.06239923 112.52489939 108.42039886 126.83939965\n",
      "  75.78870037 102.97959972 127.60500291 121.75749902  92.66960027\n",
      " 132.34580037 118.10390151 115.74829992 154.34140265 159.3048009\n",
      " 109.97179976 156.64709803 119.21400091 160.6780016  118.52590064\n",
      " 157.98389901 115.15809942 116.6584004  148.85149938 114.87800084\n",
      " 125.87909848 165.03649858 117.93010023 125.07079945 153.23400359\n",
      " 153.47160259 132.04720089 114.80190025 121.1778021  124.89800046\n",
      "  89.65230065 123.31299965 154.3301012  111.69080025 106.77739958\n",
      " 160.38020118 118.5196     165.68900004 134.2135013  114.70819961\n",
      " 153.01839886 168.94410067 114.87309985 113.9405013  159.99309911\n",
      "  85.09579925 127.20120041 127.87310057 128.86879985 124.28390051\n",
      " 123.68950062  90.70250092 153.04480027  96.97569982 138.47989994\n",
      "  89.03789913 107.47079997 115.15680077 112.81360086 124.18479929\n",
      "  91.41669892 125.29880117 162.27229827 119.9387988  164.93440121\n",
      " 126.91269802 112.30590019 127.53439915  94.83809887  91.14849989\n",
      " 102.84999922 120.82710011  83.22379966 126.49469958 159.54960444\n",
      " 117.28540127 118.33689973 119.76250003 122.72979965 120.14620126\n",
      " 121.47170032 118.14990049 107.08859979 148.00269934 126.05189853\n",
      " 115.83490063  73.83449998 127.78490053 154.58410024 122.40559999\n",
      " 125.58960047  88.90880023 103.36539867 124.1602003  120.17130069\n",
      "  73.2697009  151.72970001 121.16970019 104.63849994  86.22779779\n",
      " 115.19319906 172.27849906 119.63420029 160.35269757 113.16889955\n",
      " 121.27500012 118.46390117  96.07749992 118.50200011 126.03690043\n",
      " 118.43219975  95.9811007  153.95590204 122.26420003 147.43910045\n",
      " 159.55820245 113.96550014 122.42799954 148.86949819 127.10910024\n",
      " 166.06980027 135.31510056 120.03029946 167.23549888 108.30909919\n",
      " 121.67169839 138.54680134 106.98799888]\n"
     ]
    }
   ],
   "source": [
    "print(test_data_prediction)"
   ]
  },
  {
   "cell_type": "code",
   "execution_count": 48,
   "id": "e85011f5",
   "metadata": {},
   "outputs": [
    {
     "name": "stdout",
     "output_type": "stream",
     "text": [
      "R squared error :  0.9894519560632793\n"
     ]
    }
   ],
   "source": [
    "#R squared error\n",
    "error_score=metrics.r2_score(Y_test,test_data_prediction)\n",
    "#real value is Y testand predicted value is in  variable above\n",
    "print(\"R squared error : \",error_score)"
   ]
  },
  {
   "cell_type": "code",
   "execution_count": 49,
   "id": "80f9c07f",
   "metadata": {},
   "outputs": [],
   "source": [
    "#range 100 etc error value is very less ie; 0.9894.. so our model is good."
   ]
  },
  {
   "cell_type": "code",
   "execution_count": 50,
   "id": "139d31a1",
   "metadata": {},
   "outputs": [],
   "source": [
    "#Compare the actual values and predicted values in a plot"
   ]
  },
  {
   "cell_type": "code",
   "execution_count": 51,
   "id": "c1a3b4f4",
   "metadata": {},
   "outputs": [],
   "source": [
    "Y_test=list(Y_test)"
   ]
  },
  {
   "cell_type": "code",
   "execution_count": 59,
   "id": "38f56e1e",
   "metadata": {},
   "outputs": [
    {
     "data": {
      "image/png": "[encoded data removed]",
      "text/plain": [
       "<Figure size 432x288 with 1 Axes>"
      ]
     },
     "metadata": {
      "needs_background": "light"
     },
     "output_type": "display_data"
    }
   ],
   "source": [
    "plt.plot(Y_test,color='blue',label='Actual Value')\n",
    "plt.xlabel('Number of values')\n",
    "plt.ylabel('Gold Price')\n",
    "plt.legend()\n",
    "plt.show()"
   ]
  },
  {
   "cell_type": "code",
   "execution_count": 62,
   "id": "73f62d57",
   "metadata": {
    "scrolled": true
   },
   "outputs": [
    {
     "data": {
      "image/png": "[encoded data removed]",
      "text/plain": [
       "<Figure size 432x288 with 1 Axes>"
      ]
     },
     "metadata": {
      "needs_background": "light"
     },
     "output_type": "display_data"
    }
   ],
   "source": [
    "plt.plot(Y_test,color='blue',label='Actual Value')\n",
    "plt.plot(test_data_prediction,color='green',label='Predicted Value')\n",
    "plt.title('Actual Price vs Predicted Price')\n",
    "plt.xlabel('Number of values')\n",
    "plt.ylabel('Gold Price')\n",
    "plt.legend()\n",
    "plt.show()"
   ]
  },
  {
   "cell_type": "code",
   "execution_count": 60,
   "id": "6c122a56",
   "metadata": {},
   "outputs": [],
   "source": [
    "#actual price is slightly more than predicted because of that error.But the values of actual and predicted are really close."
   ]
  }
 ],
 "metadata": {
  "kernelspec": {
   "display_name": "Python 3",
   "language": "python",
   "name": "python3"
  },
  "language_info": {
   "codemirror_mode": {
    "name": "ipython",
    "version": 3
   },
   "file_extension": ".py",
   "mimetype": "text/x-python",
   "name": "python",
   "nbconvert_exporter": "python",
   "pygments_lexer": "ipython3",
   "version": "3.8.8"
  }
 },
 "nbformat": 4,
 "nbformat_minor": 5
}
